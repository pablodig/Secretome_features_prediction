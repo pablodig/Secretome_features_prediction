


# Import required libraries
import pandas as pd
import numpy as np
import scipy.stats as stats
from scipy.stats import pearsonr
import matplotlib.pyplot as plt
import seaborn as sns
from sklearn.preprocessing import LabelEncoder


# Define file paths
abundance_file = 'data/rnaseq_abundance.csv'
counts_file = 'data/rnaseq_counts.csv'
length_file = 'data/rnaseq_length.csv'

# Load data
abundance_data = pd.read_csv(abundance_file, index_col=0)
counts_data = pd.read_csv(counts_file, index_col=0)
length_data = pd.read_csv(length_file, index_col=0)





# Define a function to normalize counts to TPMs
def normalize_to_tpm(counts_df, lengths_df):
    # Step 1: Calculate RPK
    lengths_kb = lengths_df / 1000  # Convert lengths to kilobases
    rpk = counts_df.div(lengths_kb)

    # Step 2: Calculate scaling factors (sum of RPKs for each sample)
    scaling_factors = rpk.sum(axis=0)

    # Step 3: Normalize to TPM
    tpm = rpk.div(scaling_factors) * 1e6

    return tpm

# Perform normalization
tpm_data = normalize_to_tpm(counts_data, length_data)





# Load protein yield data
protein_yield_data = pd.read_csv('data/supplementary_data_1.csv')
# Load protein specific data
protein_specific_data = pd.read_excel('data/media-4.xlsx', sheet_name='all features')

# Ensure 'Total.purified.protein_stock1.stock2_microg' is float and fill NaN with 0
protein_yield_data['Total.purified.protein_stock1.stock2_microg'] = pd.to_numeric(
    protein_yield_data['Total.purified.protein_stock1.stock2_microg'], errors='coerce'
).fillna(0)

# Select relevant columns from the protein yield data
protein_yield = protein_yield_data[['sample_ID', 'genes', 'Total.purified.protein_stock1.stock2_microg', 'amount_microgram']]
# Select relevant columns from the protein specific data
aa_comp_c = protein_specific_data[['human_symbol', 'sequence_AA.comp_AA.Comp_C']]

# Merge both dfs
merged_df = protein_yield.merge(
    aa_comp_c,  # select only the relevant columns from aa_comp_C
    left_on='genes',       # the key column in protein_yield
    right_on='human_symbol',  # the key column in aa_comp_C
    how='left'             # left join ensures all protein_yield rows are kept
)


# Ensure sample_ID matches TPM column names
merged_df.set_index('sample_ID', inplace=True)

# Align TPM data with protein yield data
aligned_tpm_data = tpm_data.loc[:, merged_df.index]

# Combine the TPM data with protein yield data
combined_data = aligned_tpm_data.T.reset_index()  # Transpose to align samples and reset index
combined_data.set_index('sample_ID', inplace=True)
combined_data['Total_protein_microg'] = merged_df['Total.purified.protein_stock1.stock2_microg'].values
combined_data['Category'] = merged_df['amount_microgram'].values
combined_data['Comp_C'] = merged_df['sequence_AA.comp_AA.Comp_C'].values





# Load protein yield data
protein_specific_data = pd.read_excel('data/media-4.xlsx', sheet_name='all features')


# Select relevant columns from the protein yield data
aa_comp_c = protein_specific_data[['human_symbol', 'sequence_AA.comp_AA.Comp_C']]

# Ensure sample_ID matches TPM column names
aa_comp_c.set_index('human_symbol', inplace=True)

# Align TPM data with protein yield data
combined_data = combined_data.loc[:, aa_comp_c.index]

# Combine the TPM data with protein yield data
#combined_data = aligned_tpm_data.T.reset_index()  # Transpose to align samples and reset index
#combined_data.set_index('sample_ID', inplace=True)
#combined_data['Total_protein_microg'] = protein_yield['Total.purified.protein_stock1.stock2_microg'].values
#combined_data['Category'] = protein_yield['amount_microgram'].values
combined_data


# Define set of experimentally validated genes

# List of custom genes
custom_genes = ['Agpat4', 'LOC100750792', 'Nsd1', # Mina's
                'Eif2ak1', 'Eif2ak3', 'Eif2ak4', 'Hspa8', 'Ern1' #Malm's
               ]

# Check which custom genes are present in the combined data columns
present_genes = [gene for gene in custom_genes if gene in combined_data.columns]
missing_genes = [gene for gene in custom_genes if gene not in combined_data.columns]

# Display results
print(f"Present genes: {present_genes}")
print(f"Missing genes: {missing_genes}")





# Filter out genes with constant values or missing data
filtered_data = combined_data.dropna(axis=1).loc[:, combined_data.nunique() > 1]

# Initialize a dictionary to store correlation results
correlation_results = {'Gene': [], 'Correlation': [], 'P-Value': []}

# Iterate over each gene
for gene in filtered_data.columns[:-1]:  # Exclude 'Total_protein_microg'
    gene_expression = filtered_data[gene]
    protein_production = filtered_data['Total_protein_microg']

    # Calculate Pearson correlation
    corr, p_value = pearsonr(gene_expression, protein_production)

    # Append results
    correlation_results['Gene'].append(gene)
    correlation_results['Correlation'].append(corr)
    correlation_results['P-Value'].append(p_value)

# Convert results to a DataFrame
correlation_df = pd.DataFrame(correlation_results).sort_values(by='Correlation', ascending=False)
correlation_df.reset_index(inplace=True, drop=True)

# Display results
print("Top Genes Positively Correlated with Protein Production:")
print(correlation_df.head(10))
print('')
print("Top Genes Negatively Correlated with Protein Production:")
print(correlation_df.tail(10))





# Select top 10 positively and negatively correlated genes
selected_genes = pd.concat([correlation_df.head(10), correlation_df.tail(10)], ignore_index=True)

# Visualize correlations using a bar plot with p-values
plt.figure(figsize=(18, 14))
bars = plt.barh(
    selected_genes['Gene'], 
    selected_genes['Correlation'], 
    color=['green' if corr > 0 else 'red' for corr in selected_genes['Correlation']]
)

# Annotate bars with p-values
for bar, p_value in zip(bars, selected_genes['P-Value']):
    plt.text(
        bar.get_width(),  # Position at the end of the bar
        bar.get_y() + bar.get_height() / 2,  # Center vertically on the bar
        f'{p_value:.2e}',  # Format p-value in scientific notation
        va='center',  # Align vertically centered
        ha='left' if bar.get_width() > 0 else 'right'  # Adjust alignment for positive/negative bars
    )

plt.title('Top Genes Correlated with Protein Production')
plt.xlabel('Correlation Coefficient')
plt.ylabel('Gene')
plt.tight_layout()
plt.show()






# Filter correlation_df for the custom genes only
selected_genes = correlation_df[correlation_df['Gene'].isin(custom_genes)].reset_index(drop=True)

plt.figure(figsize=(6, 2))
bars = plt.barh(
    selected_genes['Gene'], 
    selected_genes['Correlation'], 
    color=['green' if corr > 0 else 'red' for corr in selected_genes['Correlation']]
)

# Annotate bars with p-values
for bar, p_value in zip(bars, selected_genes['P-Value']):
    plt.text(
        bar.get_width(),  # Position at the end of the bar
        bar.get_y() + bar.get_height() / 2,  # Center vertically on the bar
        f'{p_value:.2e}',  # Format p-value in scientific notation
        va='center',  # Align vertically centered
        ha='left' if bar.get_width() > 0 else 'right'  # Adjust alignment for positive/negative bars
    )

plt.title('Experimentally Validated Genes Correlated with Protein Production')
plt.xlabel('Correlation Coefficient')
plt.ylabel('Gene')
plt.tight_layout()
plt.show()





# Load cluster assingment dataset
sec_clusters = pd.read_excel('data/Secretome_clusterAssignment.xlsx')
# Create dictionary for mapping
sample_cluster_dict = dict(zip(sec_clusters['sample_ID'], sec_clusters['cluster']))


# Filter dataset to subset only cluster 3

# Map the cluster values to the sample_ID column
filtered_data['Cluster'] = filtered_data.index.map(sample_cluster_dict).fillna(-1).astype(int)

# Filter for samples in cluster 3
cluster_3_data = filtered_data[filtered_data['Cluster'] == 3].drop(columns=['Cluster'])


# Initialize a dictionary to store correlation results
correlation_results = {'Gene': [], 'Correlation': [], 'P-Value': []}

# Iterate over each gene
for gene in cluster_3_data.columns[:-1]:  # Exclude 'Total_protein_microg'
    gene_expression = cluster_3_data[gene]
    protein_production = cluster_3_data['Total_protein_microg']

    # Calculate Pearson correlation
    corr, p_value = pearsonr(gene_expression, protein_production)

    # Append results
    correlation_results['Gene'].append(gene)
    correlation_results['Correlation'].append(corr)
    correlation_results['P-Value'].append(p_value)

# Convert results to a DataFrame
correlation_df = pd.DataFrame(correlation_results).sort_values(by='Correlation', ascending=False)
correlation_df.reset_index(inplace=True, drop=True)





filtered_correlation_df = correlation_df[
    correlation_df['Correlation'].notnull() & correlation_df['P-Value'].notnull()
]

# Select top 10 positively and negatively correlated genes
selected_genes = pd.concat([filtered_correlation_df.head(10), filtered_correlation_df.tail(10)], ignore_index=True)

# Visualize correlations using a bar plot with p-values
plt.figure(figsize=(18, 14))
bars = plt.barh(
    selected_genes['Gene'], 
    selected_genes['Correlation'], 
    color=['green' if corr > 0 else 'red' for corr in selected_genes['Correlation']]
)

# Annotate bars with p-values
for bar, p_value in zip(bars, selected_genes['P-Value']):
    plt.text(
        bar.get_width(),  # Position at the end of the bar
        bar.get_y() + bar.get_height() / 2,  # Center vertically on the bar
        f'{p_value:.2e}',  # Format p-value in scientific notation
        va='center',  # Align vertically centered
        ha='left' if bar.get_width() > 0 else 'right'  # Adjust alignment for positive/negative bars
    )

plt.title('Top Genes Correlated with Protein Production')
plt.xlabel('Correlation Coefficient')
plt.ylabel('Gene')
plt.tight_layout()
plt.show()





# Filter correlation_df for the custom genes only
selected_genes = correlation_df[correlation_df['Gene'].isin(custom_genes)].reset_index(drop=True)

plt.figure(figsize=(6, 2))
bars = plt.barh(
    selected_genes['Gene'], 
    selected_genes['Correlation'], 
    color=['green' if corr > 0 else 'red' for corr in selected_genes['Correlation']]
)

# Annotate bars with p-values
for bar, p_value in zip(bars, selected_genes['P-Value']):
    plt.text(
        bar.get_width(),  # Position at the end of the bar
        bar.get_y() + bar.get_height() / 2,  # Center vertically on the bar
        f'{p_value:.2e}',  # Format p-value in scientific notation
        va='center',  # Align vertically centered
        ha='left' if bar.get_width() > 0 else 'right'  # Adjust alignment for positive/negative bars
    )

plt.title('Experimentally Validated Genes Correlated with Protein Production')
plt.xlabel('Correlation Coefficient')
plt.ylabel('Gene')
plt.tight_layout()
plt.show()





# Filter combined_data based on the 'Category' column
highlow_combined_data = combined_data[
    combined_data['Category'].isin(['highest amount', 'lowest amount'])
]

# Drop the 'Category' column
highlow_combined_data = highlow_combined_data.drop(columns=['Category'])


# Filter out genes with constant values or missing data
filtered_data = highlow_combined_data.dropna(axis=1).loc[:, highlow_combined_data.nunique() > 1]

# Initialize a dictionary to store correlation results
correlation_results = {'Gene': [], 'Correlation': [], 'P-Value': []}

# Iterate over each gene
for gene in filtered_data.columns[:-1]:  # Exclude 'Total_protein_microg'
    gene_expression = filtered_data[gene]
    protein_production = filtered_data['Total_protein_microg']

    # Calculate Pearson correlation
    corr, p_value = pearsonr(gene_expression, protein_production)

    # Append results
    correlation_results['Gene'].append(gene)
    correlation_results['Correlation'].append(corr)
    correlation_results['P-Value'].append(p_value)

# Convert results to a DataFrame
correlation_df = pd.DataFrame(correlation_results).sort_values(by='Correlation', ascending=False)
correlation_df.reset_index(inplace=True, drop=True)

# Display results
print("Top Genes Positively Correlated with Protein Production:")
print(correlation_df.head(10))
print('')
print("Top Genes Negatively Correlated with Protein Production:")
print(correlation_df.tail(10))


filtered_correlation_df = correlation_df[
    correlation_df['Correlation'].notnull() & correlation_df['P-Value'].notnull()
]

# Select top 10 positively and negatively correlated genes
selected_genes = pd.concat([filtered_correlation_df.head(10), filtered_correlation_df.tail(10)], ignore_index=True)

# Visualize correlations using a bar plot with p-values
plt.figure(figsize=(18, 14))
bars = plt.barh(
    selected_genes['Gene'], 
    selected_genes['Correlation'], 
    color=['green' if corr > 0 else 'red' for corr in selected_genes['Correlation']]
)

# Annotate bars with p-values
for bar, p_value in zip(bars, selected_genes['P-Value']):
    plt.text(
        bar.get_width(),  # Position at the end of the bar
        bar.get_y() + bar.get_height() / 2,  # Center vertically on the bar
        f'{p_value:.2e}',  # Format p-value in scientific notation
        va='center',  # Align vertically centered
        ha='left' if bar.get_width() > 0 else 'right'  # Adjust alignment for positive/negative bars
    )

plt.title('Top Genes Correlated with Protein Production')
plt.xlabel('Correlation Coefficient')
plt.ylabel('Gene')
plt.tight_layout()
plt.show()


# Filter correlation_df for the custom genes only
selected_genes = correlation_df[correlation_df['Gene'].isin(custom_genes)].reset_index(drop=True)

plt.figure(figsize=(6, 2))
bars = plt.barh(
    selected_genes['Gene'], 
    selected_genes['Correlation'], 
    color=['green' if corr > 0 else 'red' for corr in selected_genes['Correlation']]
)

# Annotate bars with p-values
for bar, p_value in zip(bars, selected_genes['P-Value']):
    plt.text(
        bar.get_width(),  # Position at the end of the bar
        bar.get_y() + bar.get_height() / 2,  # Center vertically on the bar
        f'{p_value:.2e}',  # Format p-value in scientific notation
        va='center',  # Align vertically centered
        ha='left' if bar.get_width() > 0 else 'right'  # Adjust alignment for positive/negative bars
    )

plt.title('Experimentally Validated Genes Correlated with Protein Production')
plt.xlabel('Correlation Coefficient')
plt.ylabel('Gene')
plt.tight_layout()
plt.show()





# Filter combined_data based on the 'Category' column
highno_combined_data = combined_data[
    combined_data['Category'].isin(['highest amount', 'no amount'])
]

# Drop the 'Category' column
highno_combined_data = highno_combined_data.drop(columns=['Category'])

# Oxidative stress genes

ox_genes = ['Keap1', 'Trex1', 'Endog', 'Fancc', 'Gpx1', 'Gskip', 'LOC100754168', 'Zfand1', 'Hif1a',
            'Gba', 'Slc7a11','Bcl2', 'Slc11a2']





# Filter out genes with constant values or missing data
filtered_data = highno_combined_data.dropna(axis=1).loc[:, highno_combined_data.nunique() > 1]

# Initialize a dictionary to store correlation results
correlation_results = {'Gene': [], 'Correlation': [], 'P-Value': []}

# Iterate over each gene
for gene in filtered_data.columns[:-1]:  # Exclude 'Total_protein_microg'
    gene_expression = filtered_data[gene]
    protein_production = filtered_data['Total_protein_microg']

    # Calculate Pearson correlation
    corr, p_value = pearsonr(gene_expression, protein_production)

    # Append results
    correlation_results['Gene'].append(gene)
    correlation_results['Correlation'].append(corr)
    correlation_results['P-Value'].append(p_value)

# Convert results to a DataFrame
correlation_df = pd.DataFrame(correlation_results).sort_values(by='Correlation', ascending=False)
correlation_df.reset_index(inplace=True, drop=True)

# Display results
print("Top Genes Positively Correlated with Protein Production:")
print(correlation_df.head(10))
print('')
print("Top Genes Negatively Correlated with Protein Production:")
print(correlation_df.tail(10))


# Filter correlation_df for the custom genes only
selected_genes = correlation_df[correlation_df['Gene'].isin(ox_genes)].reset_index(drop=True)

plt.figure(figsize=(6, 4))
bars = plt.barh(
    selected_genes['Gene'], 
    selected_genes['Correlation'], 
    color=['green' if corr > 0 else 'red' for corr in selected_genes['Correlation']]
)

# Annotate bars with p-values
for bar, p_value in zip(bars, selected_genes['P-Value']):
    plt.text(
        bar.get_width(),  # Position at the end of the bar
        bar.get_y() + bar.get_height() / 2,  # Center vertically on the bar
        f'{p_value:.2e}',  # Format p-value in scientific notation
        va='center',  # Align vertically centered
        ha='left' if bar.get_width() > 0 else 'right'  # Adjust alignment for positive/negative bars
    )

plt.title('Experimentally Validated Genes Correlated with Protein Production')
plt.xlabel('Correlation Coefficient')
plt.ylabel('Gene')
plt.tight_layout()
plt.show()





# Filter out genes with constant values or missing data
filtered_data = highno_combined_data.dropna(axis=0).loc[:, highno_combined_data.nunique() > 1]

# Initialize a dictionary to store correlation results
correlation_results = {'Gene': [], 'Correlation': [], 'P-Value': []}

# Iterate over each gene
for gene in filtered_data.columns[:-1]:  # Exclude 'Total_protein_microg'
    gene_expression = filtered_data[gene]
    aa_comp_c = filtered_data['Comp_C']

    # Calculate Pearson correlation
    corr, p_value = pearsonr(gene_expression, aa_comp_c)

    # Append results
    correlation_results['Gene'].append(gene)
    correlation_results['Correlation'].append(corr)
    correlation_results['P-Value'].append(p_value)

# Convert results to a DataFrame
correlation_df = pd.DataFrame(correlation_results).sort_values(by='Correlation', ascending=False)
correlation_df.reset_index(inplace=True, drop=True)

# Display results
print("Top Genes Positively Correlated with Protein Production:")
print(correlation_df.head(10))
print('')
print("Top Genes Negatively Correlated with Protein Production:")
print(correlation_df.tail(10))


# Oxidative stress genes

ox_genes = ['Keap1', 'Trex1', 'Endog', 'Fancc', 'Gpx1', 'Gskip', 'LOC100754168', 'Zfand1', 'Hif1a',
            'Gba', 'Slc7a11','Bcl2', 'Slc11a2']

# Filter correlation_df for the custom genes only
selected_genes = correlation_df[correlation_df['Gene'].isin(ox_genes)].reset_index(drop=True)

plt.figure(figsize=(6, 4))
bars = plt.barh(
    selected_genes['Gene'], 
    selected_genes['Correlation'], 
    color=['green' if corr > 0 else 'red' for corr in selected_genes['Correlation']]
)

# Annotate bars with p-values
for bar, p_value in zip(bars, selected_genes['P-Value']):
    plt.text(
        bar.get_width(),  # Position at the end of the bar
        bar.get_y() + bar.get_height() / 2,  # Center vertically on the bar
        f'{p_value:.2e}',  # Format p-value in scientific notation
        va='center',  # Align vertically centered
        ha='left' if bar.get_width() > 0 else 'right'  # Adjust alignment for positive/negative bars
    )

plt.title('Experimentally Validated Genes Correlated with AA Composition of Cisteine')
plt.xlabel('Correlation Coefficient')
plt.ylabel('Gene')
plt.tight_layout()
plt.show()



