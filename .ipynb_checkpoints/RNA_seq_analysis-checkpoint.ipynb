{
 "cells": [
  {
   "cell_type": "markdown",
   "id": "7b89b3de-c76d-4e91-bb2c-91c0be425d3a",
   "metadata": {},
   "source": [
    "# Correlation analysis\n",
    "Here we perform different correlation analyses between genes from our transcriptomics dataset and protein yield\n",
    "- 1 - Correlation between genes and protein yield in the entire dataset\n",
    "- 2 - Correlation between genes and protein yield within Cluster 3\n",
    "- 3 - Correlation between genes and protein yield between Low and High producers"
   ]
  },
  {
   "cell_type": "code",
   "execution_count": 1,
   "id": "26ec70fb-d178-415a-bf65-fa0e4b2c8c66",
   "metadata": {},
   "outputs": [],
   "source": [
    "# Import required libraries\n",
    "import pandas as pd\n",
    "import numpy as np\n",
    "import scipy.stats as stats\n",
    "from scipy.stats import pearsonr\n",
    "import matplotlib.pyplot as plt\n",
    "import seaborn as sns\n",
    "from sklearn.preprocessing import LabelEncoder"
   ]
  },
  {
   "cell_type": "code",
   "execution_count": 2,
   "id": "d22a7ef9-048b-43d6-a598-18ce5dff2941",
   "metadata": {},
   "outputs": [],
   "source": [
    "# Define file paths\n",
    "abundance_file = 'data/rnaseq_abundance.csv'\n",
    "counts_file = 'data/rnaseq_counts.csv'\n",
    "length_file = 'data/rnaseq_length.csv'\n",
    "\n",
    "# Load data\n",
    "abundance_data = pd.read_csv(abundance_file, index_col=0)\n",
    "counts_data = pd.read_csv(counts_file, index_col=0)\n",
    "length_data = pd.read_csv(length_file, index_col=0)"
   ]
  },
  {
   "cell_type": "markdown",
   "id": "bec4d264-39ac-4c72-9353-d4654a84e7f6",
   "metadata": {},
   "source": [
    "## Normalize the counts to TPMs\n",
    "1 - Calculate RPK (Reads Per Kilobase): Divide the counts by the gene length (in kilobases).\n",
    "\n",
    "3 - Calculate the Scaling Factor: Sum up the RPK values for each sample to get a total RPK value.\n",
    "\n",
    "4 - Normalize to TPM: Divide each gene's RPK by the total RPK for the respective sample, then multiply by "
   ]
  },
  {
   "cell_type": "code",
   "execution_count": 3,
   "id": "06ebbc28-b297-4deb-86fb-cd7a0e494a9c",
   "metadata": {},
   "outputs": [],
   "source": [
    "# Define a function to normalize counts to TPMs\n",
    "def normalize_to_tpm(counts_df, lengths_df):\n",
    "    # Step 1: Calculate RPK\n",
    "    lengths_kb = lengths_df / 1000  # Convert lengths to kilobases\n",
    "    rpk = counts_df.div(lengths_kb)\n",
    "\n",
    "    # Step 2: Calculate scaling factors (sum of RPKs for each sample)\n",
    "    scaling_factors = rpk.sum(axis=0)\n",
    "\n",
    "    # Step 3: Normalize to TPM\n",
    "    tpm = rpk.div(scaling_factors) * 1e6\n",
    "\n",
    "    return tpm\n",
    "\n",
    "# Perform normalization\n",
    "tpm_data = normalize_to_tpm(counts_data, length_data)"
   ]
  },
  {
   "cell_type": "markdown",
   "id": "b3040272-51d3-452a-95fd-ef6aae931724",
   "metadata": {},
   "source": [
    "## Load protein data and combine with rna_seq"
   ]
  },
  {
   "cell_type": "code",
   "execution_count": 4,
   "id": "f0dd23ca-2363-4e56-91b5-4845daa24f29",
   "metadata": {},
   "outputs": [],
   "source": [
    "# Load protein yield data\n",
    "protein_yield_data = pd.read_csv('data/supplementary_data_1.csv')\n",
    "# Load protein specific data\n",
    "protein_specific_data = pd.read_excel('data/media-4.xlsx', sheet_name='all features')\n",
    "\n",
    "# Ensure 'Total.purified.protein_stock1.stock2_microg' is float and fill NaN with 0\n",
    "protein_yield_data['Total.purified.protein_stock1.stock2_microg'] = pd.to_numeric(\n",
    "    protein_yield_data['Total.purified.protein_stock1.stock2_microg'], errors='coerce'\n",
    ").fillna(0)\n",
    "\n",
    "# Select relevant columns from the protein yield data\n",
    "protein_yield = protein_yield_data[['sample_ID', 'genes', 'Total.purified.protein_stock1.stock2_microg', 'amount_microgram']]\n",
    "# Select relevant columns from the protein specific data\n",
    "aa_comp_c = protein_specific_data[['human_symbol', 'sequence_AA.comp_AA.Comp_C']]\n",
    "\n",
    "# Merge both dfs\n",
    "merged_df = protein_yield.merge(\n",
    "    aa_comp_c,  # select only the relevant columns from aa_comp_C\n",
    "    left_on='genes',       # the key column in protein_yield\n",
    "    right_on='human_symbol',  # the key column in aa_comp_C\n",
    "    how='left'             # left join ensures all protein_yield rows are kept\n",
    ")\n",
    "\n",
    "\n",
    "# Ensure sample_ID matches TPM column names\n",
    "merged_df.set_index('sample_ID', inplace=True)\n",
    "\n",
    "# Align TPM data with protein yield data\n",
    "aligned_tpm_data = tpm_data.loc[:, merged_df.index]\n",
    "\n",
    "# Combine the TPM data with protein yield data\n",
    "combined_data = aligned_tpm_data.T.reset_index()  # Transpose to align samples and reset index\n",
    "combined_data.set_index('sample_ID', inplace=True)\n",
    "combined_data['Total_protein_microg'] = merged_df['Total.purified.protein_stock1.stock2_microg'].values\n",
    "combined_data['Category'] = merged_df['amount_microgram'].values\n",
    "combined_data['Comp_C'] = merged_df['sequence_AA.comp_AA.Comp_C'].values"
   ]
  },
  {
   "cell_type": "markdown",
   "id": "382ef3fd-eb04-4bbe-9979-dd2b3cd8b4cb",
   "metadata": {},
   "source": [
    "## Load protein specific features data and combine AA.comp_C with rna_seq"
   ]
  },
  {
   "cell_type": "code",
   "execution_count": null,
   "id": "ea353c6e-7f95-445b-b67b-ed7ba8785128",
   "metadata": {},
   "outputs": [],
   "source": [
    "# Load protein yield data\n",
    "protein_specific_data = pd.read_excel('data/media-4.xlsx', sheet_name='all features')\n",
    "\n",
    "\n",
    "# Select relevant columns from the protein yield data\n",
    "aa_comp_c = protein_specific_data[['human_symbol', 'sequence_AA.comp_AA.Comp_C']]\n",
    "\n",
    "# Ensure sample_ID matches TPM column names\n",
    "aa_comp_c.set_index('human_symbol', inplace=True)\n",
    "\n",
    "# Align TPM data with protein yield data\n",
    "combined_data = combined_data.loc[:, aa_comp_c.index]\n",
    "\n",
    "# Combine the TPM data with protein yield data\n",
    "#combined_data = aligned_tpm_data.T.reset_index()  # Transpose to align samples and reset index\n",
    "#combined_data.set_index('sample_ID', inplace=True)\n",
    "#combined_data['Total_protein_microg'] = protein_yield['Total.purified.protein_stock1.stock2_microg'].values\n",
    "#combined_data['Category'] = protein_yield['amount_microgram'].values\n",
    "combined_data"
   ]
  },
  {
   "cell_type": "code",
   "execution_count": null,
   "id": "d7f15cb6-2fd9-4be3-85d7-3a0b1522b238",
   "metadata": {},
   "outputs": [],
   "source": [
    "# Define set of experimentally validated genes\n",
    "\n",
    "# List of custom genes\n",
    "custom_genes = ['Agpat4', 'LOC100750792', 'Nsd1', # Mina's\n",
    "                'Eif2ak1', 'Eif2ak3', 'Eif2ak4', 'Hspa8', 'Ern1' #Malm's\n",
    "               ]\n",
    "\n",
    "# Check which custom genes are present in the combined data columns\n",
    "present_genes = [gene for gene in custom_genes if gene in combined_data.columns]\n",
    "missing_genes = [gene for gene in custom_genes if gene not in combined_data.columns]\n",
    "\n",
    "# Display results\n",
    "print(f\"Present genes: {present_genes}\")\n",
    "print(f\"Missing genes: {missing_genes}\")"
   ]
  },
  {
   "cell_type": "markdown",
   "id": "3eaa63c7-9d16-49c3-9f32-4f74995f68ed",
   "metadata": {},
   "source": [
    "## 1 - Correlation between genes and protein yield in the entire dataset"
   ]
  },
  {
   "cell_type": "code",
   "execution_count": null,
   "id": "45629785-ebd8-4feb-b0c5-6710759fddbd",
   "metadata": {},
   "outputs": [],
   "source": [
    "# Filter out genes with constant values or missing data\n",
    "filtered_data = combined_data.dropna(axis=1).loc[:, combined_data.nunique() > 1]\n",
    "\n",
    "# Initialize a dictionary to store correlation results\n",
    "correlation_results = {'Gene': [], 'Correlation': [], 'P-Value': []}\n",
    "\n",
    "# Iterate over each gene\n",
    "for gene in filtered_data.columns[:-1]:  # Exclude 'Total_protein_microg'\n",
    "    gene_expression = filtered_data[gene]\n",
    "    protein_production = filtered_data['Total_protein_microg']\n",
    "\n",
    "    # Calculate Pearson correlation\n",
    "    corr, p_value = pearsonr(gene_expression, protein_production)\n",
    "\n",
    "    # Append results\n",
    "    correlation_results['Gene'].append(gene)\n",
    "    correlation_results['Correlation'].append(corr)\n",
    "    correlation_results['P-Value'].append(p_value)\n",
    "\n",
    "# Convert results to a DataFrame\n",
    "correlation_df = pd.DataFrame(correlation_results).sort_values(by='Correlation', ascending=False)\n",
    "correlation_df.reset_index(inplace=True, drop=True)\n",
    "\n",
    "# Display results\n",
    "print(\"Top Genes Positively Correlated with Protein Production:\")\n",
    "print(correlation_df.head(10))\n",
    "print('')\n",
    "print(\"Top Genes Negatively Correlated with Protein Production:\")\n",
    "print(correlation_df.tail(10))"
   ]
  },
  {
   "cell_type": "markdown",
   "id": "c63a34e0-46e2-4303-b771-6a2a8892e962",
   "metadata": {},
   "source": [
    "### 1.1 Barplot top 10 negatively and positively correlated genes"
   ]
  },
  {
   "cell_type": "code",
   "execution_count": null,
   "id": "11ed78d3-160d-472b-aa22-80e47e684d3b",
   "metadata": {},
   "outputs": [],
   "source": [
    "# Select top 10 positively and negatively correlated genes\n",
    "selected_genes = pd.concat([correlation_df.head(10), correlation_df.tail(10)], ignore_index=True)\n",
    "\n",
    "# Visualize correlations using a bar plot with p-values\n",
    "plt.figure(figsize=(18, 14))\n",
    "bars = plt.barh(\n",
    "    selected_genes['Gene'], \n",
    "    selected_genes['Correlation'], \n",
    "    color=['green' if corr > 0 else 'red' for corr in selected_genes['Correlation']]\n",
    ")\n",
    "\n",
    "# Annotate bars with p-values\n",
    "for bar, p_value in zip(bars, selected_genes['P-Value']):\n",
    "    plt.text(\n",
    "        bar.get_width(),  # Position at the end of the bar\n",
    "        bar.get_y() + bar.get_height() / 2,  # Center vertically on the bar\n",
    "        f'{p_value:.2e}',  # Format p-value in scientific notation\n",
    "        va='center',  # Align vertically centered\n",
    "        ha='left' if bar.get_width() > 0 else 'right'  # Adjust alignment for positive/negative bars\n",
    "    )\n",
    "\n",
    "plt.title('Top Genes Correlated with Protein Production')\n",
    "plt.xlabel('Correlation Coefficient')\n",
    "plt.ylabel('Gene')\n",
    "plt.tight_layout()\n",
    "plt.show()\n"
   ]
  },
  {
   "cell_type": "markdown",
   "id": "03f8155d-919f-40b3-b9f7-e71dbc852a7c",
   "metadata": {},
   "source": [
    "### 1.2 Barplot experimentally tested genes"
   ]
  },
  {
   "cell_type": "code",
   "execution_count": null,
   "id": "0bfb4d16-6e9d-4515-a07c-53721e036836",
   "metadata": {},
   "outputs": [],
   "source": [
    "# Filter correlation_df for the custom genes only\n",
    "selected_genes = correlation_df[correlation_df['Gene'].isin(custom_genes)].reset_index(drop=True)\n",
    "\n",
    "plt.figure(figsize=(6, 2))\n",
    "bars = plt.barh(\n",
    "    selected_genes['Gene'], \n",
    "    selected_genes['Correlation'], \n",
    "    color=['green' if corr > 0 else 'red' for corr in selected_genes['Correlation']]\n",
    ")\n",
    "\n",
    "# Annotate bars with p-values\n",
    "for bar, p_value in zip(bars, selected_genes['P-Value']):\n",
    "    plt.text(\n",
    "        bar.get_width(),  # Position at the end of the bar\n",
    "        bar.get_y() + bar.get_height() / 2,  # Center vertically on the bar\n",
    "        f'{p_value:.2e}',  # Format p-value in scientific notation\n",
    "        va='center',  # Align vertically centered\n",
    "        ha='left' if bar.get_width() > 0 else 'right'  # Adjust alignment for positive/negative bars\n",
    "    )\n",
    "\n",
    "plt.title('Experimentally Validated Genes Correlated with Protein Production')\n",
    "plt.xlabel('Correlation Coefficient')\n",
    "plt.ylabel('Gene')\n",
    "plt.tight_layout()\n",
    "plt.show()"
   ]
  },
  {
   "cell_type": "markdown",
   "id": "3d83a054-7801-40ca-9edf-a6f3714193c4",
   "metadata": {},
   "source": [
    "## 2 - Correlation between genes and protein yield within Cluster 3"
   ]
  },
  {
   "cell_type": "code",
   "execution_count": null,
   "id": "d68ade44-e799-4f5a-8cb2-f4e3aa62c174",
   "metadata": {},
   "outputs": [],
   "source": [
    "# Load cluster assingment dataset\n",
    "sec_clusters = pd.read_excel('data/Secretome_clusterAssignment.xlsx')\n",
    "# Create dictionary for mapping\n",
    "sample_cluster_dict = dict(zip(sec_clusters['sample_ID'], sec_clusters['cluster']))"
   ]
  },
  {
   "cell_type": "code",
   "execution_count": null,
   "id": "c4bd1f2e-201a-4650-8c93-4cb427ea8e34",
   "metadata": {},
   "outputs": [],
   "source": [
    "# Filter dataset to subset only cluster 3\n",
    "\n",
    "# Map the cluster values to the sample_ID column\n",
    "filtered_data['Cluster'] = filtered_data.index.map(sample_cluster_dict).fillna(-1).astype(int)\n",
    "\n",
    "# Filter for samples in cluster 3\n",
    "cluster_3_data = filtered_data[filtered_data['Cluster'] == 3].drop(columns=['Cluster'])"
   ]
  },
  {
   "cell_type": "code",
   "execution_count": null,
   "id": "49ee775b-e5a2-4a15-b0c5-0a3021293b2f",
   "metadata": {},
   "outputs": [],
   "source": [
    "# Initialize a dictionary to store correlation results\n",
    "correlation_results = {'Gene': [], 'Correlation': [], 'P-Value': []}\n",
    "\n",
    "# Iterate over each gene\n",
    "for gene in cluster_3_data.columns[:-1]:  # Exclude 'Total_protein_microg'\n",
    "    gene_expression = cluster_3_data[gene]\n",
    "    protein_production = cluster_3_data['Total_protein_microg']\n",
    "\n",
    "    # Calculate Pearson correlation\n",
    "    corr, p_value = pearsonr(gene_expression, protein_production)\n",
    "\n",
    "    # Append results\n",
    "    correlation_results['Gene'].append(gene)\n",
    "    correlation_results['Correlation'].append(corr)\n",
    "    correlation_results['P-Value'].append(p_value)\n",
    "\n",
    "# Convert results to a DataFrame\n",
    "correlation_df = pd.DataFrame(correlation_results).sort_values(by='Correlation', ascending=False)\n",
    "correlation_df.reset_index(inplace=True, drop=True)"
   ]
  },
  {
   "cell_type": "markdown",
   "id": "5f9819ad-38d9-4cfa-9e1b-8095e5c726ab",
   "metadata": {},
   "source": [
    "### 2.1 Barplot top 10 negatively and positively correlated genes"
   ]
  },
  {
   "cell_type": "code",
   "execution_count": null,
   "id": "cafe7c84-7d16-40b3-971c-a6a823463b6a",
   "metadata": {},
   "outputs": [],
   "source": [
    "filtered_correlation_df = correlation_df[\n",
    "    correlation_df['Correlation'].notnull() & correlation_df['P-Value'].notnull()\n",
    "]\n",
    "\n",
    "# Select top 10 positively and negatively correlated genes\n",
    "selected_genes = pd.concat([filtered_correlation_df.head(10), filtered_correlation_df.tail(10)], ignore_index=True)\n",
    "\n",
    "# Visualize correlations using a bar plot with p-values\n",
    "plt.figure(figsize=(18, 14))\n",
    "bars = plt.barh(\n",
    "    selected_genes['Gene'], \n",
    "    selected_genes['Correlation'], \n",
    "    color=['green' if corr > 0 else 'red' for corr in selected_genes['Correlation']]\n",
    ")\n",
    "\n",
    "# Annotate bars with p-values\n",
    "for bar, p_value in zip(bars, selected_genes['P-Value']):\n",
    "    plt.text(\n",
    "        bar.get_width(),  # Position at the end of the bar\n",
    "        bar.get_y() + bar.get_height() / 2,  # Center vertically on the bar\n",
    "        f'{p_value:.2e}',  # Format p-value in scientific notation\n",
    "        va='center',  # Align vertically centered\n",
    "        ha='left' if bar.get_width() > 0 else 'right'  # Adjust alignment for positive/negative bars\n",
    "    )\n",
    "\n",
    "plt.title('Top Genes Correlated with Protein Production')\n",
    "plt.xlabel('Correlation Coefficient')\n",
    "plt.ylabel('Gene')\n",
    "plt.tight_layout()\n",
    "plt.show()"
   ]
  },
  {
   "cell_type": "markdown",
   "id": "8240ac94-a9f6-444a-8ff7-4cece21de3f8",
   "metadata": {},
   "source": [
    "### 2.2 Barplot experimentally tested genes"
   ]
  },
  {
   "cell_type": "code",
   "execution_count": null,
   "id": "14a98a0b-b2b8-4796-abfd-8e9cade06318",
   "metadata": {},
   "outputs": [],
   "source": [
    "# Filter correlation_df for the custom genes only\n",
    "selected_genes = correlation_df[correlation_df['Gene'].isin(custom_genes)].reset_index(drop=True)\n",
    "\n",
    "plt.figure(figsize=(6, 2))\n",
    "bars = plt.barh(\n",
    "    selected_genes['Gene'], \n",
    "    selected_genes['Correlation'], \n",
    "    color=['green' if corr > 0 else 'red' for corr in selected_genes['Correlation']]\n",
    ")\n",
    "\n",
    "# Annotate bars with p-values\n",
    "for bar, p_value in zip(bars, selected_genes['P-Value']):\n",
    "    plt.text(\n",
    "        bar.get_width(),  # Position at the end of the bar\n",
    "        bar.get_y() + bar.get_height() / 2,  # Center vertically on the bar\n",
    "        f'{p_value:.2e}',  # Format p-value in scientific notation\n",
    "        va='center',  # Align vertically centered\n",
    "        ha='left' if bar.get_width() > 0 else 'right'  # Adjust alignment for positive/negative bars\n",
    "    )\n",
    "\n",
    "plt.title('Experimentally Validated Genes Correlated with Protein Production')\n",
    "plt.xlabel('Correlation Coefficient')\n",
    "plt.ylabel('Gene')\n",
    "plt.tight_layout()\n",
    "plt.show()"
   ]
  },
  {
   "cell_type": "markdown",
   "id": "30963565-2052-4dba-9a8e-c0054e66ead2",
   "metadata": {},
   "source": [
    "## 3 - Correlation between genes and protein yield between Low and High producers"
   ]
  },
  {
   "cell_type": "code",
   "execution_count": null,
   "id": "3a5b2ff9-ee5f-48c8-872d-ea9d7dcdb2c1",
   "metadata": {},
   "outputs": [],
   "source": [
    "# Filter combined_data based on the 'Category' column\n",
    "highlow_combined_data = combined_data[\n",
    "    combined_data['Category'].isin(['highest amount', 'lowest amount'])\n",
    "]\n",
    "\n",
    "# Drop the 'Category' column\n",
    "highlow_combined_data = highlow_combined_data.drop(columns=['Category'])"
   ]
  },
  {
   "cell_type": "code",
   "execution_count": null,
   "id": "72fb32d3-618e-4bda-aff6-f2b20368cc0e",
   "metadata": {},
   "outputs": [],
   "source": [
    "# Filter out genes with constant values or missing data\n",
    "filtered_data = highlow_combined_data.dropna(axis=1).loc[:, highlow_combined_data.nunique() > 1]\n",
    "\n",
    "# Initialize a dictionary to store correlation results\n",
    "correlation_results = {'Gene': [], 'Correlation': [], 'P-Value': []}\n",
    "\n",
    "# Iterate over each gene\n",
    "for gene in filtered_data.columns[:-1]:  # Exclude 'Total_protein_microg'\n",
    "    gene_expression = filtered_data[gene]\n",
    "    protein_production = filtered_data['Total_protein_microg']\n",
    "\n",
    "    # Calculate Pearson correlation\n",
    "    corr, p_value = pearsonr(gene_expression, protein_production)\n",
    "\n",
    "    # Append results\n",
    "    correlation_results['Gene'].append(gene)\n",
    "    correlation_results['Correlation'].append(corr)\n",
    "    correlation_results['P-Value'].append(p_value)\n",
    "\n",
    "# Convert results to a DataFrame\n",
    "correlation_df = pd.DataFrame(correlation_results).sort_values(by='Correlation', ascending=False)\n",
    "correlation_df.reset_index(inplace=True, drop=True)\n",
    "\n",
    "# Display results\n",
    "print(\"Top Genes Positively Correlated with Protein Production:\")\n",
    "print(correlation_df.head(10))\n",
    "print('')\n",
    "print(\"Top Genes Negatively Correlated with Protein Production:\")\n",
    "print(correlation_df.tail(10))"
   ]
  },
  {
   "cell_type": "code",
   "execution_count": null,
   "id": "8b3b316f-9f37-45d1-a1b9-342a5fd4b7dc",
   "metadata": {
    "scrolled": true
   },
   "outputs": [],
   "source": [
    "filtered_correlation_df = correlation_df[\n",
    "    correlation_df['Correlation'].notnull() & correlation_df['P-Value'].notnull()\n",
    "]\n",
    "\n",
    "# Select top 10 positively and negatively correlated genes\n",
    "selected_genes = pd.concat([filtered_correlation_df.head(10), filtered_correlation_df.tail(10)], ignore_index=True)\n",
    "\n",
    "# Visualize correlations using a bar plot with p-values\n",
    "plt.figure(figsize=(18, 14))\n",
    "bars = plt.barh(\n",
    "    selected_genes['Gene'], \n",
    "    selected_genes['Correlation'], \n",
    "    color=['green' if corr > 0 else 'red' for corr in selected_genes['Correlation']]\n",
    ")\n",
    "\n",
    "# Annotate bars with p-values\n",
    "for bar, p_value in zip(bars, selected_genes['P-Value']):\n",
    "    plt.text(\n",
    "        bar.get_width(),  # Position at the end of the bar\n",
    "        bar.get_y() + bar.get_height() / 2,  # Center vertically on the bar\n",
    "        f'{p_value:.2e}',  # Format p-value in scientific notation\n",
    "        va='center',  # Align vertically centered\n",
    "        ha='left' if bar.get_width() > 0 else 'right'  # Adjust alignment for positive/negative bars\n",
    "    )\n",
    "\n",
    "plt.title('Top Genes Correlated with Protein Production')\n",
    "plt.xlabel('Correlation Coefficient')\n",
    "plt.ylabel('Gene')\n",
    "plt.tight_layout()\n",
    "plt.show()"
   ]
  },
  {
   "cell_type": "code",
   "execution_count": null,
   "id": "d61ddcc6-eb37-4a04-ace7-ea960072b14a",
   "metadata": {},
   "outputs": [],
   "source": [
    "# Filter correlation_df for the custom genes only\n",
    "selected_genes = correlation_df[correlation_df['Gene'].isin(custom_genes)].reset_index(drop=True)\n",
    "\n",
    "plt.figure(figsize=(6, 2))\n",
    "bars = plt.barh(\n",
    "    selected_genes['Gene'], \n",
    "    selected_genes['Correlation'], \n",
    "    color=['green' if corr > 0 else 'red' for corr in selected_genes['Correlation']]\n",
    ")\n",
    "\n",
    "# Annotate bars with p-values\n",
    "for bar, p_value in zip(bars, selected_genes['P-Value']):\n",
    "    plt.text(\n",
    "        bar.get_width(),  # Position at the end of the bar\n",
    "        bar.get_y() + bar.get_height() / 2,  # Center vertically on the bar\n",
    "        f'{p_value:.2e}',  # Format p-value in scientific notation\n",
    "        va='center',  # Align vertically centered\n",
    "        ha='left' if bar.get_width() > 0 else 'right'  # Adjust alignment for positive/negative bars\n",
    "    )\n",
    "\n",
    "plt.title('Experimentally Validated Genes Correlated with Protein Production')\n",
    "plt.xlabel('Correlation Coefficient')\n",
    "plt.ylabel('Gene')\n",
    "plt.tight_layout()\n",
    "plt.show()"
   ]
  },
  {
   "cell_type": "markdown",
   "id": "d5262134-aaf0-4336-8689-beabffbd1f2a",
   "metadata": {},
   "source": [
    "## 4 - Ox Stress Genes correlation between High and Failed producers"
   ]
  },
  {
   "cell_type": "code",
   "execution_count": 6,
   "id": "92e80945-d796-4a1a-9f98-0a40e9f31b11",
   "metadata": {},
   "outputs": [],
   "source": [
    "# Filter combined_data based on the 'Category' column\n",
    "highno_combined_data = combined_data[\n",
    "    combined_data['Category'].isin(['highest amount', 'no amount'])\n",
    "]\n",
    "\n",
    "# Drop the 'Category' column\n",
    "highno_combined_data = highno_combined_data.drop(columns=['Category'])\n",
    "\n",
    "# Oxidative stress genes\n",
    "\n",
    "ox_genes = ['Keap1', 'Trex1', 'Endog', 'Fancc', 'Gpx1', 'Gskip', 'LOC100754168', 'Zfand1', 'Hif1a',\n",
    "            'Gba', 'Slc7a11','Bcl2', 'Slc11a2']"
   ]
  },
  {
   "cell_type": "markdown",
   "id": "5971fbb5-7606-42af-92f7-26e9f8cd1b12",
   "metadata": {},
   "source": [
    "### 4.1 Correlation with protein yield"
   ]
  },
  {
   "cell_type": "code",
   "execution_count": 7,
   "id": "d91085c1-a924-4cf0-866f-a49e68c15851",
   "metadata": {},
   "outputs": [
    {
     "name": "stdout",
     "output_type": "stream",
     "text": [
      "Top Genes Positively Correlated with Protein Production:\n",
      "           Gene  Correlation   P-Value\n",
      "0  LOC107978826     0.806997  0.000030\n",
      "1          Ano6     0.768687  0.000120\n",
      "2  LOC100772093     0.764894  0.000136\n",
      "3          Il20     0.758828  0.000165\n",
      "4        Hivep1     0.757982  0.000170\n",
      "5  LOC100761556     0.757557  0.000172\n",
      "6  LOC107980087     0.756270  0.000179\n",
      "7          Fggy     0.753414  0.000196\n",
      "8         Peak1     0.747937  0.000231\n",
      "9         Prkcd     0.743952  0.000260\n",
      "\n",
      "Top Genes Negatively Correlated with Protein Production:\n",
      "               Gene  Correlation   P-Value\n",
      "18504        Smim20    -0.701954  0.000808\n",
      "18505         Rps26    -0.702755  0.000792\n",
      "18506         Crocc    -0.705790  0.000734\n",
      "18507  LOC103164274    -0.706443  0.000722\n",
      "18508  LOC107980326    -0.711871  0.000629\n",
      "18509         Nr2f6    -0.715685  0.000570\n",
      "18510  LOC103158789    -0.719290  0.000518\n",
      "18511        Gtpbp6    -0.723480  0.000464\n",
      "18512         Cxxc5    -0.725170  0.000443\n",
      "18513  LOC100756957    -0.737822  0.000311\n"
     ]
    }
   ],
   "source": [
    "# Filter out genes with constant values or missing data\n",
    "filtered_data = highno_combined_data.dropna(axis=1).loc[:, highno_combined_data.nunique() > 1]\n",
    "\n",
    "# Initialize a dictionary to store correlation results\n",
    "correlation_results = {'Gene': [], 'Correlation': [], 'P-Value': []}\n",
    "\n",
    "# Iterate over each gene\n",
    "for gene in filtered_data.columns[:-1]:  # Exclude 'Total_protein_microg'\n",
    "    gene_expression = filtered_data[gene]\n",
    "    protein_production = filtered_data['Total_protein_microg']\n",
    "\n",
    "    # Calculate Pearson correlation\n",
    "    corr, p_value = pearsonr(gene_expression, protein_production)\n",
    "\n",
    "    # Append results\n",
    "    correlation_results['Gene'].append(gene)\n",
    "    correlation_results['Correlation'].append(corr)\n",
    "    correlation_results['P-Value'].append(p_value)\n",
    "\n",
    "# Convert results to a DataFrame\n",
    "correlation_df = pd.DataFrame(correlation_results).sort_values(by='Correlation', ascending=False)\n",
    "correlation_df.reset_index(inplace=True, drop=True)\n",
    "\n",
    "# Display results\n",
    "print(\"Top Genes Positively Correlated with Protein Production:\")\n",
    "print(correlation_df.head(10))\n",
    "print('')\n",
    "print(\"Top Genes Negatively Correlated with Protein Production:\")\n",
    "print(correlation_df.tail(10))"
   ]
  },
  {
   "cell_type": "code",
   "execution_count": 8,
   "id": "d749ef43-8667-49c2-ae0e-522626489676",
   "metadata": {},
   "outputs": [
    {
     "data": {
      "image/png": "[encoded data removed]",
      "text/plain": [
       "<Figure size 600x400 with 1 Axes>"
      ]
     },
     "metadata": {},
     "output_type": "display_data"
    }
   ],
   "source": [
    "# Filter correlation_df for the custom genes only\n",
    "selected_genes = correlation_df[correlation_df['Gene'].isin(ox_genes)].reset_index(drop=True)\n",
    "\n",
    "plt.figure(figsize=(6, 4))\n",
    "bars = plt.barh(\n",
    "    selected_genes['Gene'], \n",
    "    selected_genes['Correlation'], \n",
    "    color=['green' if corr > 0 else 'red' for corr in selected_genes['Correlation']]\n",
    ")\n",
    "\n",
    "# Annotate bars with p-values\n",
    "for bar, p_value in zip(bars, selected_genes['P-Value']):\n",
    "    plt.text(\n",
    "        bar.get_width(),  # Position at the end of the bar\n",
    "        bar.get_y() + bar.get_height() / 2,  # Center vertically on the bar\n",
    "        f'{p_value:.2e}',  # Format p-value in scientific notation\n",
    "        va='center',  # Align vertically centered\n",
    "        ha='left' if bar.get_width() > 0 else 'right'  # Adjust alignment for positive/negative bars\n",
    "    )\n",
    "\n",
    "plt.title('Experimentally Validated Genes Correlated with Protein Production')\n",
    "plt.xlabel('Correlation Coefficient')\n",
    "plt.ylabel('Gene')\n",
    "plt.tight_layout()\n",
    "plt.show()"
   ]
  },
  {
   "cell_type": "markdown",
   "id": "c41a5843-232c-453b-9ce2-81631d2a5b38",
   "metadata": {},
   "source": [
    "### 4.2 Correlation with AA comp Cisteine"
   ]
  },
  {
   "cell_type": "code",
   "execution_count": 10,
   "id": "4058e6c2-0f1a-4553-bbd9-73be2e1f9370",
   "metadata": {},
   "outputs": [
    {
     "name": "stderr",
     "output_type": "stream",
     "text": [
      "/var/folders/_x/tfg8s2ks4n1ftkkwzp5sqjpc0000gn/T/ipykernel_44977/1647809881.py:13: ConstantInputWarning: An input array is constant; the correlation coefficient is not defined.\n",
      "  corr, p_value = pearsonr(gene_expression, aa_comp_c)\n"
     ]
    },
    {
     "name": "stdout",
     "output_type": "stream",
     "text": [
      "Top Genes Positively Correlated with Cisteine Composition:\n",
      "           Gene  Correlation   P-Value\n",
      "0           Sln     0.816438  0.000064\n",
      "1  LOC107977904     0.807005  0.000090\n",
      "2       Slc6a19     0.775669  0.000253\n",
      "3  LOC100753988     0.774842  0.000259\n",
      "4  LOC100759428     0.768196  0.000316\n",
      "5  LOC107979984     0.768196  0.000316\n",
      "6  LOC100773501     0.744668  0.000605\n",
      "7  LOC107980195     0.739581  0.000691\n",
      "8        Spock2     0.735587  0.000764\n",
      "9  LOC100761288     0.735555  0.000765\n",
      "\n",
      "Top Genes Negatively Correlated with Cisteine Composition:\n",
      "             Gene  Correlation  P-Value\n",
      "18505     Spata2l          NaN      NaN\n",
      "18506  Spindlin-2          NaN      NaN\n",
      "18507  St6galnac1          NaN      NaN\n",
      "18508      Stard8          NaN      NaN\n",
      "18509     Sult6b1          NaN      NaN\n",
      "18510        Theg          NaN      NaN\n",
      "18511        Tsks          NaN      NaN\n",
      "18512       Ttll8          NaN      NaN\n",
      "18513        Xkr7          NaN      NaN\n",
      "18514      Znf275          NaN      NaN\n"
     ]
    }
   ],
   "source": [
    "# Filter out genes with constant values or missing data\n",
    "filtered_data = highno_combined_data.dropna(axis=0).loc[:, highno_combined_data.nunique() > 1]\n",
    "\n",
    "# Initialize a dictionary to store correlation results\n",
    "correlation_results = {'Gene': [], 'Correlation': [], 'P-Value': []}\n",
    "\n",
    "# Iterate over each gene\n",
    "for gene in filtered_data.columns[:-1]:  # Exclude 'Total_protein_microg'\n",
    "    gene_expression = filtered_data[gene]\n",
    "    aa_comp_c = filtered_data['Comp_C']\n",
    "\n",
    "    # Calculate Pearson correlation\n",
    "    corr, p_value = pearsonr(gene_expression, aa_comp_c)\n",
    "\n",
    "    # Append results\n",
    "    correlation_results['Gene'].append(gene)\n",
    "    correlation_results['Correlation'].append(corr)\n",
    "    correlation_results['P-Value'].append(p_value)\n",
    "\n",
    "# Convert results to a DataFrame\n",
    "correlation_df = pd.DataFrame(correlation_results).sort_values(by='Correlation', ascending=False)\n",
    "correlation_df.reset_index(inplace=True, drop=True)\n",
    "\n",
    "# Display results\n",
    "print(\"Top Genes Positively Correlated with Cisteine Composition:\")\n",
    "print(correlation_df.head(10))\n",
    "print('')\n",
    "print(\"Top Genes Negatively Correlated with Cisteine Composition:\")\n",
    "print(correlation_df.tail(10))"
   ]
  },
  {
   "cell_type": "code",
   "execution_count": 11,
   "id": "dcb64b4e-fc59-4ff0-b986-19b91ec42cec",
   "metadata": {},
   "outputs": [
    {
     "data": {
      "image/png": "[encoded data removed]",
      "text/plain": [
       "<Figure size 600x400 with 1 Axes>"
      ]
     },
     "metadata": {},
     "output_type": "display_data"
    }
   ],
   "source": [
    "# Oxidative stress genes\n",
    "\n",
    "ox_genes = ['Keap1', 'Trex1', 'Endog', 'Fancc', 'Gpx1', 'Gskip', 'LOC100754168', 'Zfand1', 'Hif1a',\n",
    "            'Gba', 'Slc7a11','Bcl2', 'Slc11a2']\n",
    "\n",
    "# Filter correlation_df for the custom genes only\n",
    "selected_genes = correlation_df[correlation_df['Gene'].isin(ox_genes)].reset_index(drop=True)\n",
    "\n",
    "plt.figure(figsize=(6, 4))\n",
    "bars = plt.barh(\n",
    "    selected_genes['Gene'], \n",
    "    selected_genes['Correlation'], \n",
    "    color=['green' if corr > 0 else 'red' for corr in selected_genes['Correlation']]\n",
    ")\n",
    "\n",
    "# Annotate bars with p-values\n",
    "for bar, p_value in zip(bars, selected_genes['P-Value']):\n",
    "    plt.text(\n",
    "        bar.get_width(),  # Position at the end of the bar\n",
    "        bar.get_y() + bar.get_height() / 2,  # Center vertically on the bar\n",
    "        f'{p_value:.2e}',  # Format p-value in scientific notation\n",
    "        va='center',  # Align vertically centered\n",
    "        ha='left' if bar.get_width() > 0 else 'right'  # Adjust alignment for positive/negative bars\n",
    "    )\n",
    "\n",
    "plt.title('Experimentally Validated Genes Correlated with AA Composition of Cisteine')\n",
    "plt.xlabel('Correlation Coefficient')\n",
    "plt.ylabel('Gene')\n",
    "plt.tight_layout()\n",
    "plt.show()"
   ]
  },
  {
   "cell_type": "code",
   "execution_count": null,
   "id": "961d40b6-f5a1-4966-95ce-5219cceae931",
   "metadata": {},
   "outputs": [],
   "source": []
  }
 ],
 "metadata": {
  "kernelspec": {
   "display_name": "Python 3 (ipykernel)",
   "language": "python",
   "name": "python3"
  },
  "language_info": {
   "codemirror_mode": {
    "name": "ipython",
    "version": 3
   },
   "file_extension": ".py",
   "mimetype": "text/x-python",
   "name": "python",
   "nbconvert_exporter": "python",
   "pygments_lexer": "ipython3",
   "version": "3.10.14"
  }
 },
 "nbformat": 4,
 "nbformat_minor": 5
}
