{
 "cells": [
  {
   "cell_type": "code",
   "execution_count": 1,
   "id": "459ebb4a-3e15-4fc7-ae45-1ab0810b5421",
   "metadata": {},
   "outputs": [],
   "source": [
    "import pandas as pd"
   ]
  },
  {
   "cell_type": "code",
   "execution_count": 22,
   "id": "3643c39a-2ac6-457c-b7e2-a05b5bd68f17",
   "metadata": {},
   "outputs": [],
   "source": [
    "rna_seq_subset = pd.read_csv('Data/supplementary_data_1.csv')\n",
    "rna_seq_selection = pd.read_excel('Data/secretome_samples_for_RNAseq_170111.xlsx', sheet_name='all')\n",
    "tegel_all = pd.read_csv('Data/Tegel.proteins.dt.csv')"
   ]
  },
  {
   "cell_type": "markdown",
   "id": "a210a36e-8786-496a-8014-fb6b23fce315",
   "metadata": {},
   "source": [
    "## Gene IDs comparison"
   ]
  },
  {
   "cell_type": "code",
   "execution_count": 30,
   "id": "182af05d-d4d6-44bd-ba49-244c5338e702",
   "metadata": {},
   "outputs": [
    {
     "name": "stdout",
     "output_type": "stream",
     "text": [
      "Number of genes in gene_ids_1: 96\n",
      "Number of genes in gene_ids_2: 95\n",
      "Number of genes in gene_ids_3: 2153\n",
      "\n",
      "Number of common genes across all three lists: 75\n",
      "Number of common genes between gene_ids_1 and gene_ids_2: 92\n",
      "Number of common genes between gene_ids_1 and gene_ids_3: 76\n",
      "Number of common genes between gene_ids_2 and gene_ids_3: 76\n",
      "\n",
      "Number of genes unique to gene_ids_1: 20\n",
      "Number of genes unique to gene_ids_2: 19\n",
      "\n",
      "Genes unique to gene_ids_1 compared to Tegel's dataset: ['LACTB', 'HMGB1', 'CTSL', 'SHH', 'FURIN_2', 'HSP90B1', 'NCF1', 'H6PD', 'AGA', 'AGPS', 'MAN2B1', 'MMP14', 'GLCE', 'MYL1', 'GXYLT1', 'SVEP1', 'WT', 'FURIN_1', 'ASGR1', 'GNAS']\n",
      "Genes unique to gene_ids_2 compared to Tegel's dataset: ['LACTB', 'HMGB1', 'CTSL', 'SHH', 'HSP90B1', 'NCF1', 'H6PD', 'AGA', 'CHST1', 'AGPS', 'MAN2B1', 'MMP14', 'GLCE', 'FURIN', 'MYL1', 'GXYLT1', 'SVEP1', 'ASGR1', 'GNAS']\n"
     ]
    }
   ],
   "source": [
    "gene_ids_1 = rna_seq_subset['genes'].to_list()\n",
    "gene_ids_2 = rna_seq_selection['Gene name'].to_list()\n",
    "gene_ids_3 = tegel_all['human_symbol'].to_list()\n",
    "\n",
    "# Convert the lists to sets for easier comparison\n",
    "set_gene_ids_1 = set(gene_ids_1)\n",
    "set_gene_ids_2 = set(gene_ids_2)\n",
    "set_gene_ids_3 = set(gene_ids_3)\n",
    "\n",
    "# Find common elements (intersection) across all three sets\n",
    "common_genes_all = set_gene_ids_1 & set_gene_ids_2 & set_gene_ids_3\n",
    "\n",
    "# Pairwise intersections\n",
    "common_genes_1_2 = set_gene_ids_1 & set_gene_ids_2\n",
    "common_genes_1_3 = set_gene_ids_1 & set_gene_ids_3\n",
    "common_genes_2_3 = set_gene_ids_2 & set_gene_ids_3\n",
    "\n",
    "# Unique elements in each set\n",
    "unique_to_list_1 = set_gene_ids_1 - set_gene_ids_3\n",
    "unique_to_list_2 = set_gene_ids_2 - set_gene_ids_3\n",
    "\n",
    "# Summary of the counts\n",
    "print(f\"Number of genes in gene_ids_1: {len(set_gene_ids_1)}\")\n",
    "print(f\"Number of genes in gene_ids_2: {len(set_gene_ids_2)}\")\n",
    "print(f\"Number of genes in gene_ids_3: {len(set_gene_ids_3)}\")\n",
    "print('')\n",
    "print(f\"Number of common genes across all three lists: {len(common_genes_all)}\")\n",
    "print(f\"Number of common genes between gene_ids_1 and gene_ids_2: {len(common_genes_1_2)}\")\n",
    "print(f\"Number of common genes between gene_ids_1 and gene_ids_3: {len(common_genes_1_3)}\")\n",
    "print(f\"Number of common genes between gene_ids_2 and gene_ids_3: {len(common_genes_2_3)}\")\n",
    "print('')\n",
    "print(f\"Number of genes unique to gene_ids_1: {len(unique_to_list_1)}\")\n",
    "print(f\"Number of genes unique to gene_ids_2: {len(unique_to_list_2)}\")\n",
    "\n",
    "# Optionally display some sample genes for validation\n",
    "print('')\n",
    "print(\"Genes unique to gene_ids_1 compared to Tegel's dataset:\", list(unique_to_list_1))\n",
    "print(\"Genes unique to gene_ids_2 compared to Tegel's dataset:\", list(unique_to_list_2))"
   ]
  },
  {
   "cell_type": "markdown",
   "id": "16de7458-d41f-41de-b0fe-b4c8f7b5b77b",
   "metadata": {},
   "source": [
    "## ENSEMBL IDs Comparison"
   ]
  },
  {
   "cell_type": "code",
   "execution_count": 37,
   "id": "423bbd09-e322-41f7-9491-914591219ec4",
   "metadata": {},
   "outputs": [
    {
     "name": "stdout",
     "output_type": "stream",
     "text": [
      "Number of Ensemble IDs in ens_ids_1: 95\n",
      "Number of Ensemble IDs in ens_ids_2: 2153\n",
      "\n",
      "Number of common genes between the two lists: 76\n",
      "\n",
      "Number of Ensemble IDs to ens_ids_1: 19\n",
      "Number of Ensemble IDs to ens_ids_2: 2077\n",
      "\n",
      "Genes unique to ens_ids_1 compared to Tegel's dataset: ['ENSG00000103642', 'ENSG00000135047', 'ENSG00000168530', 'ENSG00000164690', 'ENSG00000049239', 'ENSG00000104774', 'ENSG00000038002', 'ENSG00000138604', 'ENSG00000165124', 'ENSG00000175264', 'ENSG00000158517', 'ENSG00000140564', 'ENSG00000157227', 'ENSG00000166598', 'ENSG00000151233', 'ENSG00000189403', 'ENSG00000087460', 'ENSG00000018510', 'ENSG00000141505']\n"
     ]
    }
   ],
   "source": [
    "ens_ids_1 = rna_seq_selection['ENSG ID'].to_list()\n",
    "ens_ids_2 = tegel_all['ENSG.id'].to_list()\n",
    "\n",
    "# Convert the lists to sets for easier comparison\n",
    "set_ens_ids_1 = set(ens_ids_1)\n",
    "set_ens_ids_2 = set(ens_ids_2)\n",
    "\n",
    "# Find common elements (intersection) across all three sets\n",
    "common_ensids_all = set_ens_ids_1 & set_ens_ids_2\n",
    "\n",
    "# Unique elements in each set\n",
    "unique_to_list_1 = set_ens_ids_1 - set_ens_ids_2\n",
    "unique_to_list_2 = set_ens_ids_2 - set_ens_ids_1\n",
    "\n",
    "# Summary of the counts\n",
    "print(f\"Number of Ensemble IDs in ens_ids_1: {len(set_ens_ids_1)}\")\n",
    "print(f\"Number of Ensemble IDs in ens_ids_2: {len(set_ens_ids_2)}\")\n",
    "print('')\n",
    "print(f\"Number of common genes between the two lists: {len(common_ensids_all)}\")\n",
    "print('')\n",
    "print(f\"Number of Ensemble IDs to ens_ids_1: {len(unique_to_list_1)}\")\n",
    "print(f\"Number of Ensemble IDs to ens_ids_2: {len(unique_to_list_2)}\")\n",
    "\n",
    "# Optionally display some sample genes for validation\n",
    "print('')\n",
    "print(\"Genes unique to ens_ids_1 compared to Tegel's dataset:\", list(unique_to_list_1))"
   ]
  },
  {
   "cell_type": "code",
   "execution_count": null,
   "id": "da0af1bf-cf97-4e80-9980-575c740fdb56",
   "metadata": {},
   "outputs": [],
   "source": []
  }
 ],
 "metadata": {
  "kernelspec": {
   "display_name": "Python 3 (ipykernel)",
   "language": "python",
   "name": "python3"
  },
  "language_info": {
   "codemirror_mode": {
    "name": "ipython",
    "version": 3
   },
   "file_extension": ".py",
   "mimetype": "text/x-python",
   "name": "python",
   "nbconvert_exporter": "python",
   "pygments_lexer": "ipython3",
   "version": "3.9.19"
  }
 },
 "nbformat": 4,
 "nbformat_minor": 5
}
